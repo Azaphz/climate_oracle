import pandas as pd  
import matplotlib.pyplot as plt  

# Dados fictícios (exemplo)  
data = {  
    'temperatura': [20, 25, 30, 22, 28, 18],  
    'vendas': [50, 80, 120, 60, 100, 40]  
}  
df = pd.DataFrame(data)  

# Gráfico de dispersão  
plt.scatter(df['temperatura'], df['vendas'])  
plt.title('Vendas vs. Temperatura')  
plt.xlabel('Temperatura (°C)')  
plt.ylabel('Vendas (unidades)')  
plt.show()  
